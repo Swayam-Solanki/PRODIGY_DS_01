{
 "cells": [
  {
   "cell_type": "code",
   "execution_count": 2,
   "id": "426ba828-f8a3-4791-9bfb-ba37edcd720d",
   "metadata": {},
   "outputs": [],
   "source": [
    "import numpy as np\n",
    "import pandas as pd\n",
    "import matplotlib.pyplot as plt\n",
    "import seaborn as sns"
   ]
  },
  {
   "cell_type": "code",
   "execution_count": 28,
   "id": "4ee5cc53-f907-4196-804e-c0e0ca164282",
   "metadata": {},
   "outputs": [],
   "source": [
    "df = pd.read_csv(\"C:\\\\Users\\\\Swayam B Solanki\\\\Documents\\\\Prodigy Internship\\\\Task-01\\\\archive\\\\data.csv\")\n"
   ]
  },
  {
   "cell_type": "code",
   "execution_count": 29,
   "id": "e409bf1c-efa4-42a5-ba95-d61c702f7a0e",
   "metadata": {
    "scrolled": true
   },
   "outputs": [
    {
     "data": {
      "text/html": [
       "<div>\n",
       "<style scoped>\n",
       "    .dataframe tbody tr th:only-of-type {\n",
       "        vertical-align: middle;\n",
       "    }\n",
       "\n",
       "    .dataframe tbody tr th {\n",
       "        vertical-align: top;\n",
       "    }\n",
       "\n",
       "    .dataframe thead th {\n",
       "        text-align: right;\n",
       "    }\n",
       "</style>\n",
       "<table border=\"1\" class=\"dataframe\">\n",
       "  <thead>\n",
       "    <tr style=\"text-align: right;\">\n",
       "      <th></th>\n",
       "      <th>Unnamed: 0</th>\n",
       "      <th>Movie Name</th>\n",
       "      <th>Year of Release</th>\n",
       "      <th>Run Time in minutes</th>\n",
       "      <th>Movie Rating</th>\n",
       "      <th>Votes</th>\n",
       "      <th>MetaScore</th>\n",
       "      <th>Gross</th>\n",
       "      <th>Genre</th>\n",
       "      <th>Certification</th>\n",
       "      <th>Director</th>\n",
       "      <th>Stars</th>\n",
       "      <th>Description</th>\n",
       "    </tr>\n",
       "  </thead>\n",
       "  <tbody>\n",
       "    <tr>\n",
       "      <th>0</th>\n",
       "      <td>0</td>\n",
       "      <td>The Shawshank Redemption</td>\n",
       "      <td>1994</td>\n",
       "      <td>142</td>\n",
       "      <td>9.3</td>\n",
       "      <td>2804443</td>\n",
       "      <td>82.0</td>\n",
       "      <td>28340000.0</td>\n",
       "      <td>['Drama']</td>\n",
       "      <td>R</td>\n",
       "      <td>['Frank Darabont']</td>\n",
       "      <td>['Tim Robbins', 'Morgan Freeman', 'Bob Gunton'...</td>\n",
       "      <td>['Over', 'the', 'course', 'of', 'several', 'ye...</td>\n",
       "    </tr>\n",
       "    <tr>\n",
       "      <th>1</th>\n",
       "      <td>1</td>\n",
       "      <td>The Godfather</td>\n",
       "      <td>1972</td>\n",
       "      <td>175</td>\n",
       "      <td>9.2</td>\n",
       "      <td>1954174</td>\n",
       "      <td>100.0</td>\n",
       "      <td>134970000.0</td>\n",
       "      <td>['Crime', ' Drama']</td>\n",
       "      <td>R</td>\n",
       "      <td>['Francis Ford Coppola']</td>\n",
       "      <td>['Marlon Brando', 'Al Pacino', 'James Caan', '...</td>\n",
       "      <td>['Don', 'Vito', 'Corleone,', 'head', 'of', 'a'...</td>\n",
       "    </tr>\n",
       "    <tr>\n",
       "      <th>2</th>\n",
       "      <td>2</td>\n",
       "      <td>Ramayana: The Legend of Prince Rama</td>\n",
       "      <td>1993</td>\n",
       "      <td>135</td>\n",
       "      <td>9.2</td>\n",
       "      <td>12995</td>\n",
       "      <td>NaN</td>\n",
       "      <td>NaN</td>\n",
       "      <td>['Animation', ' Action', ' Adventure']</td>\n",
       "      <td>PG</td>\n",
       "      <td>['Ram Mohan', 'Yûgô Sakô', 'Koichi Saski']</td>\n",
       "      <td>['Arun Govil', 'Nikhil Kapoor', 'Edie Mirman',...</td>\n",
       "      <td>['An', 'anime', 'adaptation', 'of', 'the', 'Hi...</td>\n",
       "    </tr>\n",
       "    <tr>\n",
       "      <th>3</th>\n",
       "      <td>3</td>\n",
       "      <td>The Chaos Class</td>\n",
       "      <td>1975</td>\n",
       "      <td>87</td>\n",
       "      <td>9.2</td>\n",
       "      <td>42231</td>\n",
       "      <td>NaN</td>\n",
       "      <td>NaN</td>\n",
       "      <td>['Comedy', ' Drama']</td>\n",
       "      <td>NaN</td>\n",
       "      <td>['Ertem Egilmez']</td>\n",
       "      <td>['Kemal Sunal', 'Münir Özkul', 'Halit Akçatepe...</td>\n",
       "      <td>['Lazy,', 'uneducated', 'students', 'share', '...</td>\n",
       "    </tr>\n",
       "    <tr>\n",
       "      <th>4</th>\n",
       "      <td>4</td>\n",
       "      <td>The Dark Knight</td>\n",
       "      <td>2008</td>\n",
       "      <td>152</td>\n",
       "      <td>9.0</td>\n",
       "      <td>2786129</td>\n",
       "      <td>84.0</td>\n",
       "      <td>534860000.0</td>\n",
       "      <td>['Action', ' Crime', ' Drama']</td>\n",
       "      <td>PG-13</td>\n",
       "      <td>['Christopher Nolan']</td>\n",
       "      <td>['Christian Bale', 'Heath Ledger', 'Aaron Eckh...</td>\n",
       "      <td>['When', 'the', 'menace', 'known', 'as', 'the'...</td>\n",
       "    </tr>\n",
       "    <tr>\n",
       "      <th>...</th>\n",
       "      <td>...</td>\n",
       "      <td>...</td>\n",
       "      <td>...</td>\n",
       "      <td>...</td>\n",
       "      <td>...</td>\n",
       "      <td>...</td>\n",
       "      <td>...</td>\n",
       "      <td>...</td>\n",
       "      <td>...</td>\n",
       "      <td>...</td>\n",
       "      <td>...</td>\n",
       "      <td>...</td>\n",
       "      <td>...</td>\n",
       "    </tr>\n",
       "    <tr>\n",
       "      <th>9995</th>\n",
       "      <td>9995</td>\n",
       "      <td>Golmaal Again</td>\n",
       "      <td>2017</td>\n",
       "      <td>140</td>\n",
       "      <td>4.9</td>\n",
       "      <td>10183</td>\n",
       "      <td>NaN</td>\n",
       "      <td>1010000.0</td>\n",
       "      <td>['Action', ' Comedy', ' Fantasy']</td>\n",
       "      <td>Not Rated</td>\n",
       "      <td>['Rohit Shetty']</td>\n",
       "      <td>['Ajay Devgn', 'Arshad Warsi', 'Tabu', 'Shreya...</td>\n",
       "      <td>['The', 'gang', 'encounters', 'with', 'some', ...</td>\n",
       "    </tr>\n",
       "    <tr>\n",
       "      <th>9996</th>\n",
       "      <td>9996</td>\n",
       "      <td>Not to Forget</td>\n",
       "      <td>2021</td>\n",
       "      <td>84</td>\n",
       "      <td>4.9</td>\n",
       "      <td>11191</td>\n",
       "      <td>NaN</td>\n",
       "      <td>NaN</td>\n",
       "      <td>['Drama']</td>\n",
       "      <td>NaN</td>\n",
       "      <td>['Valerio Zanoli']</td>\n",
       "      <td>['Karen Grassle', 'Louis Gossett Jr.', \"Tatum ...</td>\n",
       "      <td>['After', 'a', 'lifetime', 'of', 'scams,', 'a'...</td>\n",
       "    </tr>\n",
       "    <tr>\n",
       "      <th>9997</th>\n",
       "      <td>9997</td>\n",
       "      <td>Housefull 3</td>\n",
       "      <td>2016</td>\n",
       "      <td>140</td>\n",
       "      <td>4.9</td>\n",
       "      <td>10308</td>\n",
       "      <td>NaN</td>\n",
       "      <td>1160000.0</td>\n",
       "      <td>['Action', ' Comedy', ' Romance']</td>\n",
       "      <td>Not Rated</td>\n",
       "      <td>['Sajid', 'Farhad Samji']</td>\n",
       "      <td>['Akshay Kumar', 'Abhishek Bachchan', 'Riteish...</td>\n",
       "      <td>['A', 'father', \"doesn't\", 'want', 'his', 'thr...</td>\n",
       "    </tr>\n",
       "    <tr>\n",
       "      <th>9998</th>\n",
       "      <td>9998</td>\n",
       "      <td>A.I. Rising</td>\n",
       "      <td>2018</td>\n",
       "      <td>85</td>\n",
       "      <td>4.9</td>\n",
       "      <td>11187</td>\n",
       "      <td>NaN</td>\n",
       "      <td>NaN</td>\n",
       "      <td>['Drama', ' Romance', ' Sci-Fi']</td>\n",
       "      <td>R</td>\n",
       "      <td>['Lazar Bodroza']</td>\n",
       "      <td>['Sebastian Cavazza', 'Stoya', 'Marusa Majer',...</td>\n",
       "      <td>['An', 'intimate', 'relationship', 'between', ...</td>\n",
       "    </tr>\n",
       "    <tr>\n",
       "      <th>9999</th>\n",
       "      <td>9999</td>\n",
       "      <td>The Last Boy</td>\n",
       "      <td>2019</td>\n",
       "      <td>87</td>\n",
       "      <td>4.9</td>\n",
       "      <td>10324</td>\n",
       "      <td>NaN</td>\n",
       "      <td>NaN</td>\n",
       "      <td>['Fantasy', ' Mystery', ' Sci-Fi']</td>\n",
       "      <td>NaN</td>\n",
       "      <td>['Perry Bhandal']</td>\n",
       "      <td>['Luke Goss', 'Flynn Allen', 'Peter Guinness',...</td>\n",
       "      <td>['With', 'the', \"world's\", 'end', 'imminent,',...</td>\n",
       "    </tr>\n",
       "  </tbody>\n",
       "</table>\n",
       "<p>10000 rows × 13 columns</p>\n",
       "</div>"
      ],
      "text/plain": [
       "      Unnamed: 0                           Movie Name  Year of Release  \\\n",
       "0              0             The Shawshank Redemption             1994   \n",
       "1              1                        The Godfather             1972   \n",
       "2              2  Ramayana: The Legend of Prince Rama             1993   \n",
       "3              3                      The Chaos Class             1975   \n",
       "4              4                      The Dark Knight             2008   \n",
       "...          ...                                  ...              ...   \n",
       "9995        9995                        Golmaal Again             2017   \n",
       "9996        9996                        Not to Forget             2021   \n",
       "9997        9997                          Housefull 3             2016   \n",
       "9998        9998                          A.I. Rising             2018   \n",
       "9999        9999                         The Last Boy             2019   \n",
       "\n",
       "      Run Time in minutes  Movie Rating    Votes  MetaScore        Gross  \\\n",
       "0                     142           9.3  2804443       82.0   28340000.0   \n",
       "1                     175           9.2  1954174      100.0  134970000.0   \n",
       "2                     135           9.2    12995        NaN          NaN   \n",
       "3                      87           9.2    42231        NaN          NaN   \n",
       "4                     152           9.0  2786129       84.0  534860000.0   \n",
       "...                   ...           ...      ...        ...          ...   \n",
       "9995                  140           4.9    10183        NaN    1010000.0   \n",
       "9996                   84           4.9    11191        NaN          NaN   \n",
       "9997                  140           4.9    10308        NaN    1160000.0   \n",
       "9998                   85           4.9    11187        NaN          NaN   \n",
       "9999                   87           4.9    10324        NaN          NaN   \n",
       "\n",
       "                                       Genre Certification  \\\n",
       "0                                  ['Drama']             R   \n",
       "1                        ['Crime', ' Drama']             R   \n",
       "2     ['Animation', ' Action', ' Adventure']            PG   \n",
       "3                       ['Comedy', ' Drama']           NaN   \n",
       "4             ['Action', ' Crime', ' Drama']         PG-13   \n",
       "...                                      ...           ...   \n",
       "9995       ['Action', ' Comedy', ' Fantasy']     Not Rated   \n",
       "9996                               ['Drama']           NaN   \n",
       "9997       ['Action', ' Comedy', ' Romance']     Not Rated   \n",
       "9998        ['Drama', ' Romance', ' Sci-Fi']             R   \n",
       "9999      ['Fantasy', ' Mystery', ' Sci-Fi']           NaN   \n",
       "\n",
       "                                        Director  \\\n",
       "0                             ['Frank Darabont']   \n",
       "1                       ['Francis Ford Coppola']   \n",
       "2     ['Ram Mohan', 'Yûgô Sakô', 'Koichi Saski']   \n",
       "3                              ['Ertem Egilmez']   \n",
       "4                          ['Christopher Nolan']   \n",
       "...                                          ...   \n",
       "9995                            ['Rohit Shetty']   \n",
       "9996                          ['Valerio Zanoli']   \n",
       "9997                   ['Sajid', 'Farhad Samji']   \n",
       "9998                           ['Lazar Bodroza']   \n",
       "9999                           ['Perry Bhandal']   \n",
       "\n",
       "                                                  Stars  \\\n",
       "0     ['Tim Robbins', 'Morgan Freeman', 'Bob Gunton'...   \n",
       "1     ['Marlon Brando', 'Al Pacino', 'James Caan', '...   \n",
       "2     ['Arun Govil', 'Nikhil Kapoor', 'Edie Mirman',...   \n",
       "3     ['Kemal Sunal', 'Münir Özkul', 'Halit Akçatepe...   \n",
       "4     ['Christian Bale', 'Heath Ledger', 'Aaron Eckh...   \n",
       "...                                                 ...   \n",
       "9995  ['Ajay Devgn', 'Arshad Warsi', 'Tabu', 'Shreya...   \n",
       "9996  ['Karen Grassle', 'Louis Gossett Jr.', \"Tatum ...   \n",
       "9997  ['Akshay Kumar', 'Abhishek Bachchan', 'Riteish...   \n",
       "9998  ['Sebastian Cavazza', 'Stoya', 'Marusa Majer',...   \n",
       "9999  ['Luke Goss', 'Flynn Allen', 'Peter Guinness',...   \n",
       "\n",
       "                                            Description  \n",
       "0     ['Over', 'the', 'course', 'of', 'several', 'ye...  \n",
       "1     ['Don', 'Vito', 'Corleone,', 'head', 'of', 'a'...  \n",
       "2     ['An', 'anime', 'adaptation', 'of', 'the', 'Hi...  \n",
       "3     ['Lazy,', 'uneducated', 'students', 'share', '...  \n",
       "4     ['When', 'the', 'menace', 'known', 'as', 'the'...  \n",
       "...                                                 ...  \n",
       "9995  ['The', 'gang', 'encounters', 'with', 'some', ...  \n",
       "9996  ['After', 'a', 'lifetime', 'of', 'scams,', 'a'...  \n",
       "9997  ['A', 'father', \"doesn't\", 'want', 'his', 'thr...  \n",
       "9998  ['An', 'intimate', 'relationship', 'between', ...  \n",
       "9999  ['With', 'the', \"world's\", 'end', 'imminent,',...  \n",
       "\n",
       "[10000 rows x 13 columns]"
      ]
     },
     "execution_count": 29,
     "metadata": {},
     "output_type": "execute_result"
    }
   ],
   "source": [
    "df"
   ]
  },
  {
   "cell_type": "code",
   "execution_count": 30,
   "id": "5ca2a3a4-e78f-46c4-8c35-64fd42a27619",
   "metadata": {},
   "outputs": [
    {
     "data": {
      "text/html": [
       "<div>\n",
       "<style scoped>\n",
       "    .dataframe tbody tr th:only-of-type {\n",
       "        vertical-align: middle;\n",
       "    }\n",
       "\n",
       "    .dataframe tbody tr th {\n",
       "        vertical-align: top;\n",
       "    }\n",
       "\n",
       "    .dataframe thead th {\n",
       "        text-align: right;\n",
       "    }\n",
       "</style>\n",
       "<table border=\"1\" class=\"dataframe\">\n",
       "  <thead>\n",
       "    <tr style=\"text-align: right;\">\n",
       "      <th></th>\n",
       "      <th>Unnamed: 0</th>\n",
       "      <th>Movie Name</th>\n",
       "      <th>Year of Release</th>\n",
       "      <th>Run Time in minutes</th>\n",
       "      <th>Movie Rating</th>\n",
       "      <th>Votes</th>\n",
       "      <th>MetaScore</th>\n",
       "      <th>Gross</th>\n",
       "      <th>Genre</th>\n",
       "      <th>Certification</th>\n",
       "      <th>Director</th>\n",
       "      <th>Stars</th>\n",
       "      <th>Description</th>\n",
       "    </tr>\n",
       "  </thead>\n",
       "  <tbody>\n",
       "    <tr>\n",
       "      <th>0</th>\n",
       "      <td>0</td>\n",
       "      <td>The Shawshank Redemption</td>\n",
       "      <td>1994</td>\n",
       "      <td>142</td>\n",
       "      <td>9.3</td>\n",
       "      <td>2804443</td>\n",
       "      <td>82.0</td>\n",
       "      <td>28340000.0</td>\n",
       "      <td>['Drama']</td>\n",
       "      <td>R</td>\n",
       "      <td>['Frank Darabont']</td>\n",
       "      <td>['Tim Robbins', 'Morgan Freeman', 'Bob Gunton'...</td>\n",
       "      <td>['Over', 'the', 'course', 'of', 'several', 'ye...</td>\n",
       "    </tr>\n",
       "    <tr>\n",
       "      <th>1</th>\n",
       "      <td>1</td>\n",
       "      <td>The Godfather</td>\n",
       "      <td>1972</td>\n",
       "      <td>175</td>\n",
       "      <td>9.2</td>\n",
       "      <td>1954174</td>\n",
       "      <td>100.0</td>\n",
       "      <td>134970000.0</td>\n",
       "      <td>['Crime', ' Drama']</td>\n",
       "      <td>R</td>\n",
       "      <td>['Francis Ford Coppola']</td>\n",
       "      <td>['Marlon Brando', 'Al Pacino', 'James Caan', '...</td>\n",
       "      <td>['Don', 'Vito', 'Corleone,', 'head', 'of', 'a'...</td>\n",
       "    </tr>\n",
       "    <tr>\n",
       "      <th>2</th>\n",
       "      <td>2</td>\n",
       "      <td>Ramayana: The Legend of Prince Rama</td>\n",
       "      <td>1993</td>\n",
       "      <td>135</td>\n",
       "      <td>9.2</td>\n",
       "      <td>12995</td>\n",
       "      <td>NaN</td>\n",
       "      <td>NaN</td>\n",
       "      <td>['Animation', ' Action', ' Adventure']</td>\n",
       "      <td>PG</td>\n",
       "      <td>['Ram Mohan', 'Yûgô Sakô', 'Koichi Saski']</td>\n",
       "      <td>['Arun Govil', 'Nikhil Kapoor', 'Edie Mirman',...</td>\n",
       "      <td>['An', 'anime', 'adaptation', 'of', 'the', 'Hi...</td>\n",
       "    </tr>\n",
       "    <tr>\n",
       "      <th>3</th>\n",
       "      <td>3</td>\n",
       "      <td>The Chaos Class</td>\n",
       "      <td>1975</td>\n",
       "      <td>87</td>\n",
       "      <td>9.2</td>\n",
       "      <td>42231</td>\n",
       "      <td>NaN</td>\n",
       "      <td>NaN</td>\n",
       "      <td>['Comedy', ' Drama']</td>\n",
       "      <td>NaN</td>\n",
       "      <td>['Ertem Egilmez']</td>\n",
       "      <td>['Kemal Sunal', 'Münir Özkul', 'Halit Akçatepe...</td>\n",
       "      <td>['Lazy,', 'uneducated', 'students', 'share', '...</td>\n",
       "    </tr>\n",
       "    <tr>\n",
       "      <th>4</th>\n",
       "      <td>4</td>\n",
       "      <td>The Dark Knight</td>\n",
       "      <td>2008</td>\n",
       "      <td>152</td>\n",
       "      <td>9.0</td>\n",
       "      <td>2786129</td>\n",
       "      <td>84.0</td>\n",
       "      <td>534860000.0</td>\n",
       "      <td>['Action', ' Crime', ' Drama']</td>\n",
       "      <td>PG-13</td>\n",
       "      <td>['Christopher Nolan']</td>\n",
       "      <td>['Christian Bale', 'Heath Ledger', 'Aaron Eckh...</td>\n",
       "      <td>['When', 'the', 'menace', 'known', 'as', 'the'...</td>\n",
       "    </tr>\n",
       "  </tbody>\n",
       "</table>\n",
       "</div>"
      ],
      "text/plain": [
       "   Unnamed: 0                           Movie Name  Year of Release  \\\n",
       "0           0             The Shawshank Redemption             1994   \n",
       "1           1                        The Godfather             1972   \n",
       "2           2  Ramayana: The Legend of Prince Rama             1993   \n",
       "3           3                      The Chaos Class             1975   \n",
       "4           4                      The Dark Knight             2008   \n",
       "\n",
       "   Run Time in minutes  Movie Rating    Votes  MetaScore        Gross  \\\n",
       "0                  142           9.3  2804443       82.0   28340000.0   \n",
       "1                  175           9.2  1954174      100.0  134970000.0   \n",
       "2                  135           9.2    12995        NaN          NaN   \n",
       "3                   87           9.2    42231        NaN          NaN   \n",
       "4                  152           9.0  2786129       84.0  534860000.0   \n",
       "\n",
       "                                    Genre Certification  \\\n",
       "0                               ['Drama']             R   \n",
       "1                     ['Crime', ' Drama']             R   \n",
       "2  ['Animation', ' Action', ' Adventure']            PG   \n",
       "3                    ['Comedy', ' Drama']           NaN   \n",
       "4          ['Action', ' Crime', ' Drama']         PG-13   \n",
       "\n",
       "                                     Director  \\\n",
       "0                          ['Frank Darabont']   \n",
       "1                    ['Francis Ford Coppola']   \n",
       "2  ['Ram Mohan', 'Yûgô Sakô', 'Koichi Saski']   \n",
       "3                           ['Ertem Egilmez']   \n",
       "4                       ['Christopher Nolan']   \n",
       "\n",
       "                                               Stars  \\\n",
       "0  ['Tim Robbins', 'Morgan Freeman', 'Bob Gunton'...   \n",
       "1  ['Marlon Brando', 'Al Pacino', 'James Caan', '...   \n",
       "2  ['Arun Govil', 'Nikhil Kapoor', 'Edie Mirman',...   \n",
       "3  ['Kemal Sunal', 'Münir Özkul', 'Halit Akçatepe...   \n",
       "4  ['Christian Bale', 'Heath Ledger', 'Aaron Eckh...   \n",
       "\n",
       "                                         Description  \n",
       "0  ['Over', 'the', 'course', 'of', 'several', 'ye...  \n",
       "1  ['Don', 'Vito', 'Corleone,', 'head', 'of', 'a'...  \n",
       "2  ['An', 'anime', 'adaptation', 'of', 'the', 'Hi...  \n",
       "3  ['Lazy,', 'uneducated', 'students', 'share', '...  \n",
       "4  ['When', 'the', 'menace', 'known', 'as', 'the'...  "
      ]
     },
     "execution_count": 30,
     "metadata": {},
     "output_type": "execute_result"
    }
   ],
   "source": [
    "df.head()"
   ]
  },
  {
   "cell_type": "code",
   "execution_count": 31,
   "id": "fe2c2ce2-b5cc-44cb-8cd1-4ef5b20b0a22",
   "metadata": {},
   "outputs": [
    {
     "data": {
      "text/html": [
       "<div>\n",
       "<style scoped>\n",
       "    .dataframe tbody tr th:only-of-type {\n",
       "        vertical-align: middle;\n",
       "    }\n",
       "\n",
       "    .dataframe tbody tr th {\n",
       "        vertical-align: top;\n",
       "    }\n",
       "\n",
       "    .dataframe thead th {\n",
       "        text-align: right;\n",
       "    }\n",
       "</style>\n",
       "<table border=\"1\" class=\"dataframe\">\n",
       "  <thead>\n",
       "    <tr style=\"text-align: right;\">\n",
       "      <th></th>\n",
       "      <th>Unnamed: 0</th>\n",
       "      <th>Movie Name</th>\n",
       "      <th>Year of Release</th>\n",
       "      <th>Run Time in minutes</th>\n",
       "      <th>Movie Rating</th>\n",
       "      <th>Votes</th>\n",
       "      <th>MetaScore</th>\n",
       "      <th>Gross</th>\n",
       "      <th>Genre</th>\n",
       "      <th>Certification</th>\n",
       "      <th>Director</th>\n",
       "      <th>Stars</th>\n",
       "      <th>Description</th>\n",
       "    </tr>\n",
       "  </thead>\n",
       "  <tbody>\n",
       "    <tr>\n",
       "      <th>9995</th>\n",
       "      <td>9995</td>\n",
       "      <td>Golmaal Again</td>\n",
       "      <td>2017</td>\n",
       "      <td>140</td>\n",
       "      <td>4.9</td>\n",
       "      <td>10183</td>\n",
       "      <td>NaN</td>\n",
       "      <td>1010000.0</td>\n",
       "      <td>['Action', ' Comedy', ' Fantasy']</td>\n",
       "      <td>Not Rated</td>\n",
       "      <td>['Rohit Shetty']</td>\n",
       "      <td>['Ajay Devgn', 'Arshad Warsi', 'Tabu', 'Shreya...</td>\n",
       "      <td>['The', 'gang', 'encounters', 'with', 'some', ...</td>\n",
       "    </tr>\n",
       "    <tr>\n",
       "      <th>9996</th>\n",
       "      <td>9996</td>\n",
       "      <td>Not to Forget</td>\n",
       "      <td>2021</td>\n",
       "      <td>84</td>\n",
       "      <td>4.9</td>\n",
       "      <td>11191</td>\n",
       "      <td>NaN</td>\n",
       "      <td>NaN</td>\n",
       "      <td>['Drama']</td>\n",
       "      <td>NaN</td>\n",
       "      <td>['Valerio Zanoli']</td>\n",
       "      <td>['Karen Grassle', 'Louis Gossett Jr.', \"Tatum ...</td>\n",
       "      <td>['After', 'a', 'lifetime', 'of', 'scams,', 'a'...</td>\n",
       "    </tr>\n",
       "    <tr>\n",
       "      <th>9997</th>\n",
       "      <td>9997</td>\n",
       "      <td>Housefull 3</td>\n",
       "      <td>2016</td>\n",
       "      <td>140</td>\n",
       "      <td>4.9</td>\n",
       "      <td>10308</td>\n",
       "      <td>NaN</td>\n",
       "      <td>1160000.0</td>\n",
       "      <td>['Action', ' Comedy', ' Romance']</td>\n",
       "      <td>Not Rated</td>\n",
       "      <td>['Sajid', 'Farhad Samji']</td>\n",
       "      <td>['Akshay Kumar', 'Abhishek Bachchan', 'Riteish...</td>\n",
       "      <td>['A', 'father', \"doesn't\", 'want', 'his', 'thr...</td>\n",
       "    </tr>\n",
       "    <tr>\n",
       "      <th>9998</th>\n",
       "      <td>9998</td>\n",
       "      <td>A.I. Rising</td>\n",
       "      <td>2018</td>\n",
       "      <td>85</td>\n",
       "      <td>4.9</td>\n",
       "      <td>11187</td>\n",
       "      <td>NaN</td>\n",
       "      <td>NaN</td>\n",
       "      <td>['Drama', ' Romance', ' Sci-Fi']</td>\n",
       "      <td>R</td>\n",
       "      <td>['Lazar Bodroza']</td>\n",
       "      <td>['Sebastian Cavazza', 'Stoya', 'Marusa Majer',...</td>\n",
       "      <td>['An', 'intimate', 'relationship', 'between', ...</td>\n",
       "    </tr>\n",
       "    <tr>\n",
       "      <th>9999</th>\n",
       "      <td>9999</td>\n",
       "      <td>The Last Boy</td>\n",
       "      <td>2019</td>\n",
       "      <td>87</td>\n",
       "      <td>4.9</td>\n",
       "      <td>10324</td>\n",
       "      <td>NaN</td>\n",
       "      <td>NaN</td>\n",
       "      <td>['Fantasy', ' Mystery', ' Sci-Fi']</td>\n",
       "      <td>NaN</td>\n",
       "      <td>['Perry Bhandal']</td>\n",
       "      <td>['Luke Goss', 'Flynn Allen', 'Peter Guinness',...</td>\n",
       "      <td>['With', 'the', \"world's\", 'end', 'imminent,',...</td>\n",
       "    </tr>\n",
       "  </tbody>\n",
       "</table>\n",
       "</div>"
      ],
      "text/plain": [
       "      Unnamed: 0     Movie Name  Year of Release  Run Time in minutes  \\\n",
       "9995        9995  Golmaal Again             2017                  140   \n",
       "9996        9996  Not to Forget             2021                   84   \n",
       "9997        9997    Housefull 3             2016                  140   \n",
       "9998        9998    A.I. Rising             2018                   85   \n",
       "9999        9999   The Last Boy             2019                   87   \n",
       "\n",
       "      Movie Rating  Votes  MetaScore      Gross  \\\n",
       "9995           4.9  10183        NaN  1010000.0   \n",
       "9996           4.9  11191        NaN        NaN   \n",
       "9997           4.9  10308        NaN  1160000.0   \n",
       "9998           4.9  11187        NaN        NaN   \n",
       "9999           4.9  10324        NaN        NaN   \n",
       "\n",
       "                                   Genre Certification  \\\n",
       "9995   ['Action', ' Comedy', ' Fantasy']     Not Rated   \n",
       "9996                           ['Drama']           NaN   \n",
       "9997   ['Action', ' Comedy', ' Romance']     Not Rated   \n",
       "9998    ['Drama', ' Romance', ' Sci-Fi']             R   \n",
       "9999  ['Fantasy', ' Mystery', ' Sci-Fi']           NaN   \n",
       "\n",
       "                       Director  \\\n",
       "9995           ['Rohit Shetty']   \n",
       "9996         ['Valerio Zanoli']   \n",
       "9997  ['Sajid', 'Farhad Samji']   \n",
       "9998          ['Lazar Bodroza']   \n",
       "9999          ['Perry Bhandal']   \n",
       "\n",
       "                                                  Stars  \\\n",
       "9995  ['Ajay Devgn', 'Arshad Warsi', 'Tabu', 'Shreya...   \n",
       "9996  ['Karen Grassle', 'Louis Gossett Jr.', \"Tatum ...   \n",
       "9997  ['Akshay Kumar', 'Abhishek Bachchan', 'Riteish...   \n",
       "9998  ['Sebastian Cavazza', 'Stoya', 'Marusa Majer',...   \n",
       "9999  ['Luke Goss', 'Flynn Allen', 'Peter Guinness',...   \n",
       "\n",
       "                                            Description  \n",
       "9995  ['The', 'gang', 'encounters', 'with', 'some', ...  \n",
       "9996  ['After', 'a', 'lifetime', 'of', 'scams,', 'a'...  \n",
       "9997  ['A', 'father', \"doesn't\", 'want', 'his', 'thr...  \n",
       "9998  ['An', 'intimate', 'relationship', 'between', ...  \n",
       "9999  ['With', 'the', \"world's\", 'end', 'imminent,',...  "
      ]
     },
     "execution_count": 31,
     "metadata": {},
     "output_type": "execute_result"
    }
   ],
   "source": [
    "df.tail()"
   ]
  },
  {
   "cell_type": "code",
   "execution_count": 32,
   "id": "de014c61-8539-4ace-9b76-46223dfc2340",
   "metadata": {},
   "outputs": [
    {
     "data": {
      "text/plain": [
       "(10000, 13)"
      ]
     },
     "execution_count": 32,
     "metadata": {},
     "output_type": "execute_result"
    }
   ],
   "source": [
    "df.shape"
   ]
  },
  {
   "cell_type": "code",
   "execution_count": 33,
   "id": "c2afd699-970f-4886-8dab-9afe7d55b5d4",
   "metadata": {},
   "outputs": [
    {
     "data": {
      "text/plain": [
       "Index(['Unnamed: 0', 'Movie Name', 'Year of Release', 'Run Time in minutes',\n",
       "       'Movie Rating', 'Votes', 'MetaScore', 'Gross', 'Genre', 'Certification',\n",
       "       'Director', 'Stars', 'Description'],\n",
       "      dtype='object')"
      ]
     },
     "execution_count": 33,
     "metadata": {},
     "output_type": "execute_result"
    }
   ],
   "source": [
    "df.columns"
   ]
  },
  {
   "cell_type": "code",
   "execution_count": 34,
   "id": "b8807ce7-4b4b-41fa-910b-b046db6f9524",
   "metadata": {},
   "outputs": [
    {
     "data": {
      "text/plain": [
       "Unnamed: 0               int64\n",
       "Movie Name              object\n",
       "Year of Release          int64\n",
       "Run Time in minutes      int64\n",
       "Movie Rating           float64\n",
       "Votes                    int64\n",
       "MetaScore              float64\n",
       "Gross                  float64\n",
       "Genre                   object\n",
       "Certification           object\n",
       "Director                object\n",
       "Stars                   object\n",
       "Description             object\n",
       "dtype: object"
      ]
     },
     "execution_count": 34,
     "metadata": {},
     "output_type": "execute_result"
    }
   ],
   "source": [
    "df.dtypes"
   ]
  },
  {
   "cell_type": "code",
   "execution_count": 35,
   "id": "4873eef1-038a-4f56-b90b-b8bfcc2c5eb4",
   "metadata": {},
   "outputs": [
    {
     "name": "stdout",
     "output_type": "stream",
     "text": [
      "<class 'pandas.core.frame.DataFrame'>\n",
      "RangeIndex: 10000 entries, 0 to 9999\n",
      "Data columns (total 13 columns):\n",
      " #   Column               Non-Null Count  Dtype  \n",
      "---  ------               --------------  -----  \n",
      " 0   Unnamed: 0           10000 non-null  int64  \n",
      " 1   Movie Name           10000 non-null  object \n",
      " 2   Year of Release      10000 non-null  int64  \n",
      " 3   Run Time in minutes  10000 non-null  int64  \n",
      " 4   Movie Rating         10000 non-null  float64\n",
      " 5   Votes                10000 non-null  int64  \n",
      " 6   MetaScore            7974 non-null   float64\n",
      " 7   Gross                7085 non-null   float64\n",
      " 8   Genre                10000 non-null  object \n",
      " 9   Certification        9631 non-null   object \n",
      " 10  Director             10000 non-null  object \n",
      " 11  Stars                10000 non-null  object \n",
      " 12  Description          10000 non-null  object \n",
      "dtypes: float64(3), int64(4), object(6)\n",
      "memory usage: 1015.8+ KB\n"
     ]
    }
   ],
   "source": [
    "df.info()"
   ]
  },
  {
   "cell_type": "code",
   "execution_count": 36,
   "id": "34d9df57-8378-41e8-b770-62714628f935",
   "metadata": {},
   "outputs": [
    {
     "data": {
      "text/html": [
       "<div>\n",
       "<style scoped>\n",
       "    .dataframe tbody tr th:only-of-type {\n",
       "        vertical-align: middle;\n",
       "    }\n",
       "\n",
       "    .dataframe tbody tr th {\n",
       "        vertical-align: top;\n",
       "    }\n",
       "\n",
       "    .dataframe thead th {\n",
       "        text-align: right;\n",
       "    }\n",
       "</style>\n",
       "<table border=\"1\" class=\"dataframe\">\n",
       "  <thead>\n",
       "    <tr style=\"text-align: right;\">\n",
       "      <th></th>\n",
       "      <th>Unnamed: 0</th>\n",
       "      <th>Year of Release</th>\n",
       "      <th>Run Time in minutes</th>\n",
       "      <th>Movie Rating</th>\n",
       "      <th>Votes</th>\n",
       "      <th>MetaScore</th>\n",
       "      <th>Gross</th>\n",
       "    </tr>\n",
       "  </thead>\n",
       "  <tbody>\n",
       "    <tr>\n",
       "      <th>count</th>\n",
       "      <td>10000.00000</td>\n",
       "      <td>10000.000000</td>\n",
       "      <td>10000.000000</td>\n",
       "      <td>10000.000000</td>\n",
       "      <td>1.000000e+04</td>\n",
       "      <td>7974.000000</td>\n",
       "      <td>7.085000e+03</td>\n",
       "    </tr>\n",
       "    <tr>\n",
       "      <th>mean</th>\n",
       "      <td>4999.50000</td>\n",
       "      <td>2001.413600</td>\n",
       "      <td>110.725000</td>\n",
       "      <td>6.727020</td>\n",
       "      <td>9.279738e+04</td>\n",
       "      <td>59.171432</td>\n",
       "      <td>4.017500e+07</td>\n",
       "    </tr>\n",
       "    <tr>\n",
       "      <th>std</th>\n",
       "      <td>2886.89568</td>\n",
       "      <td>18.597804</td>\n",
       "      <td>22.053073</td>\n",
       "      <td>0.821264</td>\n",
       "      <td>1.716509e+05</td>\n",
       "      <td>17.268795</td>\n",
       "      <td>6.748658e+07</td>\n",
       "    </tr>\n",
       "    <tr>\n",
       "      <th>min</th>\n",
       "      <td>0.00000</td>\n",
       "      <td>1915.000000</td>\n",
       "      <td>45.000000</td>\n",
       "      <td>4.900000</td>\n",
       "      <td>1.000200e+04</td>\n",
       "      <td>7.000000</td>\n",
       "      <td>0.000000e+00</td>\n",
       "    </tr>\n",
       "    <tr>\n",
       "      <th>25%</th>\n",
       "      <td>2499.75000</td>\n",
       "      <td>1994.000000</td>\n",
       "      <td>96.000000</td>\n",
       "      <td>6.100000</td>\n",
       "      <td>1.685175e+04</td>\n",
       "      <td>47.000000</td>\n",
       "      <td>2.340000e+06</td>\n",
       "    </tr>\n",
       "    <tr>\n",
       "      <th>50%</th>\n",
       "      <td>4999.50000</td>\n",
       "      <td>2007.000000</td>\n",
       "      <td>107.000000</td>\n",
       "      <td>6.700000</td>\n",
       "      <td>3.417950e+04</td>\n",
       "      <td>60.000000</td>\n",
       "      <td>1.693000e+07</td>\n",
       "    </tr>\n",
       "    <tr>\n",
       "      <th>75%</th>\n",
       "      <td>7499.25000</td>\n",
       "      <td>2015.000000</td>\n",
       "      <td>121.000000</td>\n",
       "      <td>7.300000</td>\n",
       "      <td>9.154600e+04</td>\n",
       "      <td>72.000000</td>\n",
       "      <td>4.864000e+07</td>\n",
       "    </tr>\n",
       "    <tr>\n",
       "      <th>max</th>\n",
       "      <td>9999.00000</td>\n",
       "      <td>2023.000000</td>\n",
       "      <td>439.000000</td>\n",
       "      <td>9.300000</td>\n",
       "      <td>2.804443e+06</td>\n",
       "      <td>100.000000</td>\n",
       "      <td>9.366600e+08</td>\n",
       "    </tr>\n",
       "  </tbody>\n",
       "</table>\n",
       "</div>"
      ],
      "text/plain": [
       "        Unnamed: 0  Year of Release  Run Time in minutes  Movie Rating  \\\n",
       "count  10000.00000     10000.000000         10000.000000  10000.000000   \n",
       "mean    4999.50000      2001.413600           110.725000      6.727020   \n",
       "std     2886.89568        18.597804            22.053073      0.821264   \n",
       "min        0.00000      1915.000000            45.000000      4.900000   \n",
       "25%     2499.75000      1994.000000            96.000000      6.100000   \n",
       "50%     4999.50000      2007.000000           107.000000      6.700000   \n",
       "75%     7499.25000      2015.000000           121.000000      7.300000   \n",
       "max     9999.00000      2023.000000           439.000000      9.300000   \n",
       "\n",
       "              Votes    MetaScore         Gross  \n",
       "count  1.000000e+04  7974.000000  7.085000e+03  \n",
       "mean   9.279738e+04    59.171432  4.017500e+07  \n",
       "std    1.716509e+05    17.268795  6.748658e+07  \n",
       "min    1.000200e+04     7.000000  0.000000e+00  \n",
       "25%    1.685175e+04    47.000000  2.340000e+06  \n",
       "50%    3.417950e+04    60.000000  1.693000e+07  \n",
       "75%    9.154600e+04    72.000000  4.864000e+07  \n",
       "max    2.804443e+06   100.000000  9.366600e+08  "
      ]
     },
     "execution_count": 36,
     "metadata": {},
     "output_type": "execute_result"
    }
   ],
   "source": [
    "df.describe()"
   ]
  },
  {
   "cell_type": "code",
   "execution_count": 37,
   "id": "903a361d-71d6-45a0-931a-3d8f622c9f4c",
   "metadata": {},
   "outputs": [
    {
     "data": {
      "text/plain": [
       "0"
      ]
     },
     "execution_count": 37,
     "metadata": {},
     "output_type": "execute_result"
    }
   ],
   "source": [
    "df.duplicated().sum()"
   ]
  },
  {
   "cell_type": "code",
   "execution_count": 38,
   "id": "f943a2c4-580c-4843-8543-c2ba8a12977e",
   "metadata": {},
   "outputs": [
    {
     "data": {
      "text/plain": [
       "True"
      ]
     },
     "execution_count": 38,
     "metadata": {},
     "output_type": "execute_result"
    }
   ],
   "source": [
    "\n",
    "df.isna().sum().any()"
   ]
  },
  {
   "cell_type": "code",
   "execution_count": 39,
   "id": "6639d122-e75f-4d3b-a162-69821fbd91ea",
   "metadata": {},
   "outputs": [
    {
     "name": "stderr",
     "output_type": "stream",
     "text": [
      "C:\\Users\\Swayam B Solanki\\AppData\\Local\\Temp\\ipykernel_4500\\3814804353.py:1: FutureWarning: DataFrame.fillna with 'method' is deprecated and will raise in a future version. Use obj.ffill() or obj.bfill() instead.\n",
      "  df = df.fillna(method = \"ffill\")\n"
     ]
    },
    {
     "data": {
      "text/html": [
       "<div>\n",
       "<style scoped>\n",
       "    .dataframe tbody tr th:only-of-type {\n",
       "        vertical-align: middle;\n",
       "    }\n",
       "\n",
       "    .dataframe tbody tr th {\n",
       "        vertical-align: top;\n",
       "    }\n",
       "\n",
       "    .dataframe thead th {\n",
       "        text-align: right;\n",
       "    }\n",
       "</style>\n",
       "<table border=\"1\" class=\"dataframe\">\n",
       "  <thead>\n",
       "    <tr style=\"text-align: right;\">\n",
       "      <th></th>\n",
       "      <th>Unnamed: 0</th>\n",
       "      <th>Movie Name</th>\n",
       "      <th>Year of Release</th>\n",
       "      <th>Run Time in minutes</th>\n",
       "      <th>Movie Rating</th>\n",
       "      <th>Votes</th>\n",
       "      <th>MetaScore</th>\n",
       "      <th>Gross</th>\n",
       "      <th>Genre</th>\n",
       "      <th>Certification</th>\n",
       "      <th>Director</th>\n",
       "      <th>Stars</th>\n",
       "      <th>Description</th>\n",
       "    </tr>\n",
       "  </thead>\n",
       "  <tbody>\n",
       "    <tr>\n",
       "      <th>0</th>\n",
       "      <td>0</td>\n",
       "      <td>The Shawshank Redemption</td>\n",
       "      <td>1994</td>\n",
       "      <td>142</td>\n",
       "      <td>9.3</td>\n",
       "      <td>2804443</td>\n",
       "      <td>82.0</td>\n",
       "      <td>28340000.0</td>\n",
       "      <td>['Drama']</td>\n",
       "      <td>R</td>\n",
       "      <td>['Frank Darabont']</td>\n",
       "      <td>['Tim Robbins', 'Morgan Freeman', 'Bob Gunton'...</td>\n",
       "      <td>['Over', 'the', 'course', 'of', 'several', 'ye...</td>\n",
       "    </tr>\n",
       "    <tr>\n",
       "      <th>1</th>\n",
       "      <td>1</td>\n",
       "      <td>The Godfather</td>\n",
       "      <td>1972</td>\n",
       "      <td>175</td>\n",
       "      <td>9.2</td>\n",
       "      <td>1954174</td>\n",
       "      <td>100.0</td>\n",
       "      <td>134970000.0</td>\n",
       "      <td>['Crime', ' Drama']</td>\n",
       "      <td>R</td>\n",
       "      <td>['Francis Ford Coppola']</td>\n",
       "      <td>['Marlon Brando', 'Al Pacino', 'James Caan', '...</td>\n",
       "      <td>['Don', 'Vito', 'Corleone,', 'head', 'of', 'a'...</td>\n",
       "    </tr>\n",
       "    <tr>\n",
       "      <th>2</th>\n",
       "      <td>2</td>\n",
       "      <td>Ramayana: The Legend of Prince Rama</td>\n",
       "      <td>1993</td>\n",
       "      <td>135</td>\n",
       "      <td>9.2</td>\n",
       "      <td>12995</td>\n",
       "      <td>100.0</td>\n",
       "      <td>134970000.0</td>\n",
       "      <td>['Animation', ' Action', ' Adventure']</td>\n",
       "      <td>PG</td>\n",
       "      <td>['Ram Mohan', 'Yûgô Sakô', 'Koichi Saski']</td>\n",
       "      <td>['Arun Govil', 'Nikhil Kapoor', 'Edie Mirman',...</td>\n",
       "      <td>['An', 'anime', 'adaptation', 'of', 'the', 'Hi...</td>\n",
       "    </tr>\n",
       "    <tr>\n",
       "      <th>3</th>\n",
       "      <td>3</td>\n",
       "      <td>The Chaos Class</td>\n",
       "      <td>1975</td>\n",
       "      <td>87</td>\n",
       "      <td>9.2</td>\n",
       "      <td>42231</td>\n",
       "      <td>100.0</td>\n",
       "      <td>134970000.0</td>\n",
       "      <td>['Comedy', ' Drama']</td>\n",
       "      <td>PG</td>\n",
       "      <td>['Ertem Egilmez']</td>\n",
       "      <td>['Kemal Sunal', 'Münir Özkul', 'Halit Akçatepe...</td>\n",
       "      <td>['Lazy,', 'uneducated', 'students', 'share', '...</td>\n",
       "    </tr>\n",
       "    <tr>\n",
       "      <th>4</th>\n",
       "      <td>4</td>\n",
       "      <td>The Dark Knight</td>\n",
       "      <td>2008</td>\n",
       "      <td>152</td>\n",
       "      <td>9.0</td>\n",
       "      <td>2786129</td>\n",
       "      <td>84.0</td>\n",
       "      <td>534860000.0</td>\n",
       "      <td>['Action', ' Crime', ' Drama']</td>\n",
       "      <td>PG-13</td>\n",
       "      <td>['Christopher Nolan']</td>\n",
       "      <td>['Christian Bale', 'Heath Ledger', 'Aaron Eckh...</td>\n",
       "      <td>['When', 'the', 'menace', 'known', 'as', 'the'...</td>\n",
       "    </tr>\n",
       "  </tbody>\n",
       "</table>\n",
       "</div>"
      ],
      "text/plain": [
       "   Unnamed: 0                           Movie Name  Year of Release  \\\n",
       "0           0             The Shawshank Redemption             1994   \n",
       "1           1                        The Godfather             1972   \n",
       "2           2  Ramayana: The Legend of Prince Rama             1993   \n",
       "3           3                      The Chaos Class             1975   \n",
       "4           4                      The Dark Knight             2008   \n",
       "\n",
       "   Run Time in minutes  Movie Rating    Votes  MetaScore        Gross  \\\n",
       "0                  142           9.3  2804443       82.0   28340000.0   \n",
       "1                  175           9.2  1954174      100.0  134970000.0   \n",
       "2                  135           9.2    12995      100.0  134970000.0   \n",
       "3                   87           9.2    42231      100.0  134970000.0   \n",
       "4                  152           9.0  2786129       84.0  534860000.0   \n",
       "\n",
       "                                    Genre Certification  \\\n",
       "0                               ['Drama']             R   \n",
       "1                     ['Crime', ' Drama']             R   \n",
       "2  ['Animation', ' Action', ' Adventure']            PG   \n",
       "3                    ['Comedy', ' Drama']            PG   \n",
       "4          ['Action', ' Crime', ' Drama']         PG-13   \n",
       "\n",
       "                                     Director  \\\n",
       "0                          ['Frank Darabont']   \n",
       "1                    ['Francis Ford Coppola']   \n",
       "2  ['Ram Mohan', 'Yûgô Sakô', 'Koichi Saski']   \n",
       "3                           ['Ertem Egilmez']   \n",
       "4                       ['Christopher Nolan']   \n",
       "\n",
       "                                               Stars  \\\n",
       "0  ['Tim Robbins', 'Morgan Freeman', 'Bob Gunton'...   \n",
       "1  ['Marlon Brando', 'Al Pacino', 'James Caan', '...   \n",
       "2  ['Arun Govil', 'Nikhil Kapoor', 'Edie Mirman',...   \n",
       "3  ['Kemal Sunal', 'Münir Özkul', 'Halit Akçatepe...   \n",
       "4  ['Christian Bale', 'Heath Ledger', 'Aaron Eckh...   \n",
       "\n",
       "                                         Description  \n",
       "0  ['Over', 'the', 'course', 'of', 'several', 'ye...  \n",
       "1  ['Don', 'Vito', 'Corleone,', 'head', 'of', 'a'...  \n",
       "2  ['An', 'anime', 'adaptation', 'of', 'the', 'Hi...  \n",
       "3  ['Lazy,', 'uneducated', 'students', 'share', '...  \n",
       "4  ['When', 'the', 'menace', 'known', 'as', 'the'...  "
      ]
     },
     "execution_count": 39,
     "metadata": {},
     "output_type": "execute_result"
    }
   ],
   "source": [
    "\n",
    "df = df.fillna(method = \"ffill\")\n",
    "df.head()"
   ]
  },
  {
   "cell_type": "code",
   "execution_count": 40,
   "id": "3f88b4b6-d655-42f0-afe6-a62d09ed6169",
   "metadata": {},
   "outputs": [
    {
     "data": {
      "text/plain": [
       "False"
      ]
     },
     "execution_count": 40,
     "metadata": {},
     "output_type": "execute_result"
    }
   ],
   "source": [
    "df.isna().sum().any()"
   ]
  },
  {
   "cell_type": "code",
   "execution_count": 41,
   "id": "8f6fb643-62ce-4028-985f-1824e9cc6d13",
   "metadata": {},
   "outputs": [
    {
     "data": {
      "text/plain": [
       "array(['The Shawshank Redemption', 'The Godfather',\n",
       "       'Ramayana: The Legend of Prince Rama', ..., 'Housefull 3',\n",
       "       'A.I. Rising', 'The Last Boy'], dtype=object)"
      ]
     },
     "execution_count": 41,
     "metadata": {},
     "output_type": "execute_result"
    }
   ],
   "source": [
    "\n",
    "df['Movie Name'].unique()"
   ]
  },
  {
   "cell_type": "code",
   "execution_count": 42,
   "id": "872953f5-8c29-4b50-8e5d-316dd1d44214",
   "metadata": {},
   "outputs": [
    {
     "data": {
      "text/plain": [
       "array([1994, 1972, 1993, 1975, 2008, 2003, 1957, 1974, 2016, 2022, 2021,\n",
       "       1976, 1999, 2001, 2010, 2002, 1966, 2006, 2020, 1984, 1982, 2023,\n",
       "       2014, 1990, 1980, 2018, 1977, 1978, 1985, 1995, 1991, 1998, 1997,\n",
       "       1946, 1954, 1962, 2000, 1996, 1987, 1979, 2019, 1960, 2012, 1942,\n",
       "       1988, 2011, 1968, 1936, 1931, 1964, 1959, 1965, 1986, 1981, 2017,\n",
       "       2009, 1950, 1963, 1940, 2004, 2015, 1971, 1983, 1992, 1958, 1961,\n",
       "       1941, 1927, 1952, 1973, 1944, 2007, 1948, 1945, 1955, 1967, 1969,\n",
       "       2013, 2005, 1989, 1939, 1953, 1921, 1924, 1949, 1956, 1932, 1934,\n",
       "       1930, 1923, 1926, 1928, 1925, 1937, 1951, 1943, 1920, 1947, 1970,\n",
       "       1922, 1933, 1938, 1935, 1929, 1916, 1919, 1915], dtype=int64)"
      ]
     },
     "execution_count": 42,
     "metadata": {},
     "output_type": "execute_result"
    }
   ],
   "source": [
    "df['Year of Release'].unique() "
   ]
  },
  {
   "cell_type": "code",
   "execution_count": 43,
   "id": "5f0b81ea-e036-4d18-b1c7-f4ee18f40ac9",
   "metadata": {},
   "outputs": [
    {
     "data": {
      "text/plain": [
       "array([142, 175, 135,  87, 152, 195, 201,  96, 202, 147, 121, 154, 207,\n",
       "        90,  91, 139, 178, 148, 179, 164, 247, 138, 169, 158,  95,  92,\n",
       "        80, 140, 145, 136, 133, 124, 157, 153,  86,  83, 101,  94, 180,\n",
       "       127, 118, 189, 125, 137, 130, 116, 170, 163, 104, 115, 160,  97,\n",
       "       155, 151, 117, 132, 106, 109, 110, 165,  88, 150, 119, 102, 112,\n",
       "        89, 366, 105, 131, 173, 120, 146, 122, 181, 113, 149,  98, 126,\n",
       "       143, 141, 177,  84, 108, 229,  99,  81, 134, 128, 103, 218, 129,\n",
       "       161, 123, 107, 168, 185, 162, 176, 171,  82, 156, 174, 172, 114,\n",
       "       111, 100, 238, 321, 439,  68,  45, 167, 237,  62, 186, 183,  93,\n",
       "       212,  74, 188, 196, 205, 224,  78,  72, 166, 144, 191,  85,  67,\n",
       "       159, 182, 184,  75,  76, 194, 242, 197, 220,  66,  64, 209, 187,\n",
       "        70, 193,  69, 192,  56,  65, 317,  79, 271,  71,  59,  51, 210,\n",
       "        63, 213,  77, 206,  73,  46, 200, 216, 208, 219,  48,  55, 260,\n",
       "        57,  60], dtype=int64)"
      ]
     },
     "execution_count": 43,
     "metadata": {},
     "output_type": "execute_result"
    }
   ],
   "source": [
    "df['Run Time in minutes'].unique()"
   ]
  },
  {
   "cell_type": "code",
   "execution_count": 44,
   "id": "9d2baa3b-0d27-44e9-85fe-5ef2e49229e1",
   "metadata": {},
   "outputs": [
    {
     "data": {
      "text/plain": [
       "array([9.3, 9.2, 9. , 8.9, 8.8, 8.7, 8.6, 8.5, 8.4, 8.3, 8.2, 8.1, 8. ,\n",
       "       7.9, 7.8, 7.7, 7.6, 7.5, 7.4, 7.3, 7.2, 7.1, 7. , 6.9, 6.8, 6.7,\n",
       "       6.6, 6.5, 6.4, 6.3, 6.2, 6.1, 6. , 5.9, 5.8, 5.7, 5.6, 5.5, 5.4,\n",
       "       5.3, 5.2, 5.1, 5. , 4.9])"
      ]
     },
     "execution_count": 44,
     "metadata": {},
     "output_type": "execute_result"
    }
   ],
   "source": [
    "df['Movie Rating'].unique()"
   ]
  },
  {
   "cell_type": "code",
   "execution_count": 45,
   "id": "3d7b2a51-814f-4983-9101-93a2c304e2ec",
   "metadata": {},
   "outputs": [],
   "source": [
    "df.drop(['Movie Name','Year of Release','Run Time in minutes'],axis = 1, inplace = True)"
   ]
  },
  {
   "cell_type": "code",
   "execution_count": 46,
   "id": "574674f5-1167-4fee-9819-0e89a9b96e7f",
   "metadata": {},
   "outputs": [
    {
     "data": {
      "text/plain": [
       "Index(['Unnamed: 0', 'Movie Rating', 'Votes', 'MetaScore', 'Gross', 'Genre',\n",
       "       'Certification', 'Director', 'Stars', 'Description'],\n",
       "      dtype='object')"
      ]
     },
     "execution_count": 46,
     "metadata": {},
     "output_type": "execute_result"
    }
   ],
   "source": [
    "df.columns"
   ]
  },
  {
   "cell_type": "code",
   "execution_count": 47,
   "id": "00fd763a-018e-444b-8ee4-34a3c0839b4e",
   "metadata": {},
   "outputs": [],
   "source": [
    "cols = ['Unnamed: 0', 'Movie Rating', 'Votes', 'MetaScore', 'Gross', 'Genre',\n",
    "       'Certification', 'Director', 'Stars', 'Description']"
   ]
  },
  {
   "cell_type": "code",
   "execution_count": 48,
   "id": "df056267-433a-4851-9edf-f46d8e794ae6",
   "metadata": {},
   "outputs": [
    {
     "data": {
      "image/png": "[encoded data removed]",
      "text/plain": [
       "<Figure size 500x500 with 1 Axes>"
      ]
     },
     "metadata": {},
     "output_type": "display_data"
    },
    {
     "data": {
      "image/png": "[encoded data removed]",
      "text/plain": [
       "<Figure size 500x500 with 1 Axes>"
      ]
     },
     "metadata": {},
     "output_type": "display_data"
    },
    {
     "data": {
      "image/png": "[encoded data removed]",
      "text/plain": [
       "<Figure size 500x500 with 1 Axes>"
      ]
     },
     "metadata": {},
     "output_type": "display_data"
    },
    {
     "data": {
      "image/png": "[encoded data removed]",
      "text/plain": [
       "<Figure size 500x500 with 1 Axes>"
      ]
     },
     "metadata": {},
     "output_type": "display_data"
    },
    {
     "data": {
      "image/png": "[encoded data removed]",
      "text/plain": [
       "<Figure size 500x500 with 1 Axes>"
      ]
     },
     "metadata": {},
     "output_type": "display_data"
    },
    {
     "data": {
      "image/png": "[encoded data removed]",
      "text/plain": [
       "<Figure size 500x500 with 1 Axes>"
      ]
     },
     "metadata": {},
     "output_type": "display_data"
    },
    {
     "data": {
      "image/png": "[encoded data removed]",
      "text/plain": [
       "<Figure size 500x500 with 1 Axes>"
      ]
     },
     "metadata": {},
     "output_type": "display_data"
    },
    {
     "data": {
      "image/png": "[encoded data removed]",
      "text/plain": [
       "<Figure size 500x500 with 1 Axes>"
      ]
     },
     "metadata": {},
     "output_type": "display_data"
    },
    {
     "data": {
      "image/png": "[encoded data removed]",
      "text/plain": [
       "<Figure size 500x500 with 1 Axes>"
      ]
     },
     "metadata": {},
     "output_type": "display_data"
    },
    {
     "data": {
      "image/png": "[encoded data removed]",
      "text/plain": [
       "<Figure size 500x500 with 1 Axes>"
      ]
     },
     "metadata": {},
     "output_type": "display_data"
    }
   ],
   "source": [
    "\n",
    "for i in cols:\n",
    "        fig = plt.figure(figsize=(5,5))\n",
    "        plt.hist(df[i],color='#B22222',bins=10)\n",
    "        plt.xlabel(i)\n",
    "        plt.show()"
   ]
  },
  {
   "cell_type": "code",
   "execution_count": null,
   "id": "2b3d077d-7157-464f-9f09-d02b020af2ba",
   "metadata": {},
   "outputs": [],
   "source": []
  }
 ],
 "metadata": {
  "kernelspec": {
   "display_name": "Python 3 (ipykernel)",
   "language": "python",
   "name": "python3"
  },
  "language_info": {
   "codemirror_mode": {
    "name": "ipython",
    "version": 3
   },
   "file_extension": ".py",
   "mimetype": "text/x-python",
   "name": "python",
   "nbconvert_exporter": "python",
   "pygments_lexer": "ipython3",
   "version": "3.10.4"
  }
 },
 "nbformat": 4,
 "nbformat_minor": 5
}
